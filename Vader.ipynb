{
 "cells": [
  {
   "cell_type": "code",
   "execution_count": 1,
   "id": "d309f247",
   "metadata": {},
   "outputs": [
    {
     "name": "stdout",
     "output_type": "stream",
     "text": [
      "Sentiment scores and analysis {'neg': 0.0, 'neu': 0.795, 'pos': 0.205, 'compound': 0.9718}\n"
     ]
    }
   ],
   "source": [
    "from vaderSentiment.vaderSentiment import SentimentIntensityAnalyzer\n",
    "senti = SentimentIntensityAnalyzer()\n",
    "with open('dataset1.csv') as file:\n",
    "    \n",
    "    book = file.readlines()\n",
    "\n",
    "    sentiment_score = senti.polarity_scores(book)\n",
    "\n",
    "    print(\"Sentiment scores and analysis\", sentiment_score)"
   ]
  },
  {
   "cell_type": "code",
   "execution_count": 2,
   "id": "8ab91eb3",
   "metadata": {},
   "outputs": [
    {
     "name": "stdout",
     "output_type": "stream",
     "text": [
      "Sentiment scores and analysis {'neg': 0.0, 'neu': 0.661, 'pos': 0.339, 'compound': 0.9769}\n"
     ]
    }
   ],
   "source": [
    "from vaderSentiment.vaderSentiment import SentimentIntensityAnalyzer\n",
    "senti = SentimentIntensityAnalyzer()\n",
    "with open('dataset2.csv') as file:\n",
    "    \n",
    "    book = file.readlines()\n",
    "\n",
    "    sentiment_score = senti.polarity_scores(book)\n",
    "\n",
    "    print(\"Sentiment scores and analysis\", sentiment_score)"
   ]
  },
  {
   "cell_type": "code",
   "execution_count": null,
   "id": "8b1b5317",
   "metadata": {},
   "outputs": [],
   "source": []
  }
 ],
 "metadata": {
  "kernelspec": {
   "display_name": "Python 3 (ipykernel)",
   "language": "python",
   "name": "python3"
  },
  "language_info": {
   "codemirror_mode": {
    "name": "ipython",
    "version": 3
   },
   "file_extension": ".py",
   "mimetype": "text/x-python",
   "name": "python",
   "nbconvert_exporter": "python",
   "pygments_lexer": "ipython3",
   "version": "3.9.13"
  }
 },
 "nbformat": 4,
 "nbformat_minor": 5
}
